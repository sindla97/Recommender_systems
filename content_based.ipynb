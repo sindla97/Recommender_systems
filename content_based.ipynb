{
  "cells": [
    {
      "cell_type": "markdown",
      "metadata": {
        "id": "view-in-github",
        "colab_type": "text"
      },
      "source": [
        "<a href=\"https://colab.research.google.com/github/sindla97/Recommender_systems/blob/main/content_based.ipynb\" target=\"_parent\"><img src=\"https://colab.research.google.com/assets/colab-badge.svg\" alt=\"Open In Colab\"/></a>"
      ]
    },
    {
      "cell_type": "code",
      "execution_count": null,
      "metadata": {
        "id": "kU3D2iGE4Rze",
        "outputId": "11f8f03d-1a37-4911-e06e-709d4e94e5c3"
      },
      "outputs": [
        {
          "name": "stdout",
          "output_type": "stream",
          "text": [
            "Collecting kagglehub\n",
            "  Downloading kagglehub-0.3.12-py3-none-any.whl.metadata (38 kB)\n",
            "Requirement already satisfied: packaging in /opt/anaconda3/lib/python3.12/site-packages (from kagglehub) (24.1)\n",
            "Requirement already satisfied: pyyaml in /opt/anaconda3/lib/python3.12/site-packages (from kagglehub) (6.0.1)\n",
            "Requirement already satisfied: requests in /opt/anaconda3/lib/python3.12/site-packages (from kagglehub) (2.32.3)\n",
            "Requirement already satisfied: tqdm in /opt/anaconda3/lib/python3.12/site-packages (from kagglehub) (4.66.5)\n",
            "Requirement already satisfied: charset-normalizer<4,>=2 in /opt/anaconda3/lib/python3.12/site-packages (from requests->kagglehub) (3.3.2)\n",
            "Requirement already satisfied: idna<4,>=2.5 in /opt/anaconda3/lib/python3.12/site-packages (from requests->kagglehub) (3.7)\n",
            "Requirement already satisfied: urllib3<3,>=1.21.1 in /opt/anaconda3/lib/python3.12/site-packages (from requests->kagglehub) (2.2.3)\n",
            "Requirement already satisfied: certifi>=2017.4.17 in /opt/anaconda3/lib/python3.12/site-packages (from requests->kagglehub) (2025.4.26)\n",
            "Downloading kagglehub-0.3.12-py3-none-any.whl (67 kB)\n",
            "Installing collected packages: kagglehub\n",
            "Successfully installed kagglehub-0.3.12\n"
          ]
        }
      ],
      "source": [
        "!pip install kagglehub"
      ]
    },
    {
      "cell_type": "code",
      "execution_count": null,
      "metadata": {
        "colab": {
          "base_uri": "https://localhost:8080/"
        },
        "id": "sNWP4JDhIBqN",
        "outputId": "b26b715d-81e5-4ca1-94e9-3a9ac608feba"
      },
      "outputs": [
        {
          "name": "stdout",
          "output_type": "stream",
          "text": [
            "Path to dataset files: /Users/hemanth/.cache/kagglehub/datasets/dylanjcastillo/7k-books-with-metadata/versions/3\n"
          ]
        }
      ],
      "source": [
        "import kagglehub\n",
        "\n",
        "# Download latest version\n",
        "path = kagglehub.dataset_download(\"dylanjcastillo/7k-books-with-metadata\")\n",
        "\n",
        "print(\"Path to dataset files:\", path)"
      ]
    },
    {
      "cell_type": "code",
      "execution_count": null,
      "metadata": {
        "id": "lbE1idvu4Rzh",
        "outputId": "7d6e9d54-bb99-4067-95b8-81bd3f433be0"
      },
      "outputs": [
        {
          "data": {
            "text/plain": [
              "'/Users/hemanth/.cache/kagglehub/datasets/dylanjcastillo/7k-books-with-metadata/versions/3'"
            ]
          },
          "execution_count": 14,
          "metadata": {},
          "output_type": "execute_result"
        }
      ],
      "source": [
        "path"
      ]
    },
    {
      "cell_type": "code",
      "execution_count": null,
      "metadata": {
        "colab": {
          "base_uri": "https://localhost:8080/",
          "height": 513
        },
        "id": "8QBFFRzGS1de",
        "outputId": "260a72fd-181d-4b5e-ab4a-c8746b7ef1e5"
      },
      "outputs": [
        {
          "data": {
            "text/html": [
              "<div>\n",
              "<style scoped>\n",
              "    .dataframe tbody tr th:only-of-type {\n",
              "        vertical-align: middle;\n",
              "    }\n",
              "\n",
              "    .dataframe tbody tr th {\n",
              "        vertical-align: top;\n",
              "    }\n",
              "\n",
              "    .dataframe thead th {\n",
              "        text-align: right;\n",
              "    }\n",
              "</style>\n",
              "<table border=\"1\" class=\"dataframe\">\n",
              "  <thead>\n",
              "    <tr style=\"text-align: right;\">\n",
              "      <th></th>\n",
              "      <th>isbn13</th>\n",
              "      <th>isbn10</th>\n",
              "      <th>title</th>\n",
              "      <th>subtitle</th>\n",
              "      <th>authors</th>\n",
              "      <th>categories</th>\n",
              "      <th>thumbnail</th>\n",
              "      <th>description</th>\n",
              "      <th>published_year</th>\n",
              "      <th>average_rating</th>\n",
              "      <th>num_pages</th>\n",
              "      <th>ratings_count</th>\n",
              "    </tr>\n",
              "  </thead>\n",
              "  <tbody>\n",
              "    <tr>\n",
              "      <th>0</th>\n",
              "      <td>9780002005883</td>\n",
              "      <td>0002005883</td>\n",
              "      <td>Gilead</td>\n",
              "      <td>NaN</td>\n",
              "      <td>Marilynne Robinson</td>\n",
              "      <td>Fiction</td>\n",
              "      <td>http://books.google.com/books/content?id=KQZCP...</td>\n",
              "      <td>A NOVEL THAT READERS and critics have been eag...</td>\n",
              "      <td>2004.0</td>\n",
              "      <td>3.85</td>\n",
              "      <td>247.0</td>\n",
              "      <td>361.0</td>\n",
              "    </tr>\n",
              "    <tr>\n",
              "      <th>1</th>\n",
              "      <td>9780002261982</td>\n",
              "      <td>0002261987</td>\n",
              "      <td>Spider's Web</td>\n",
              "      <td>A Novel</td>\n",
              "      <td>Charles Osborne;Agatha Christie</td>\n",
              "      <td>Detective and mystery stories</td>\n",
              "      <td>http://books.google.com/books/content?id=gA5GP...</td>\n",
              "      <td>A new 'Christie for Christmas' -- a full-lengt...</td>\n",
              "      <td>2000.0</td>\n",
              "      <td>3.83</td>\n",
              "      <td>241.0</td>\n",
              "      <td>5164.0</td>\n",
              "    </tr>\n",
              "    <tr>\n",
              "      <th>2</th>\n",
              "      <td>9780006163831</td>\n",
              "      <td>0006163831</td>\n",
              "      <td>The One Tree</td>\n",
              "      <td>NaN</td>\n",
              "      <td>Stephen R. Donaldson</td>\n",
              "      <td>American fiction</td>\n",
              "      <td>http://books.google.com/books/content?id=OmQaw...</td>\n",
              "      <td>Volume Two of Stephen Donaldson's acclaimed se...</td>\n",
              "      <td>1982.0</td>\n",
              "      <td>3.97</td>\n",
              "      <td>479.0</td>\n",
              "      <td>172.0</td>\n",
              "    </tr>\n",
              "    <tr>\n",
              "      <th>3</th>\n",
              "      <td>9780006178736</td>\n",
              "      <td>0006178731</td>\n",
              "      <td>Rage of angels</td>\n",
              "      <td>NaN</td>\n",
              "      <td>Sidney Sheldon</td>\n",
              "      <td>Fiction</td>\n",
              "      <td>http://books.google.com/books/content?id=FKo2T...</td>\n",
              "      <td>A memorable, mesmerizing heroine Jennifer -- b...</td>\n",
              "      <td>1993.0</td>\n",
              "      <td>3.93</td>\n",
              "      <td>512.0</td>\n",
              "      <td>29532.0</td>\n",
              "    </tr>\n",
              "    <tr>\n",
              "      <th>4</th>\n",
              "      <td>9780006280897</td>\n",
              "      <td>0006280897</td>\n",
              "      <td>The Four Loves</td>\n",
              "      <td>NaN</td>\n",
              "      <td>Clive Staples Lewis</td>\n",
              "      <td>Christian life</td>\n",
              "      <td>http://books.google.com/books/content?id=XhQ5X...</td>\n",
              "      <td>Lewis' work on the nature of love divides love...</td>\n",
              "      <td>2002.0</td>\n",
              "      <td>4.15</td>\n",
              "      <td>170.0</td>\n",
              "      <td>33684.0</td>\n",
              "    </tr>\n",
              "  </tbody>\n",
              "</table>\n",
              "</div>"
            ],
            "text/plain": [
              "          isbn13      isbn10           title subtitle  \\\n",
              "0  9780002005883  0002005883          Gilead      NaN   \n",
              "1  9780002261982  0002261987    Spider's Web  A Novel   \n",
              "2  9780006163831  0006163831    The One Tree      NaN   \n",
              "3  9780006178736  0006178731  Rage of angels      NaN   \n",
              "4  9780006280897  0006280897  The Four Loves      NaN   \n",
              "\n",
              "                           authors                     categories  \\\n",
              "0               Marilynne Robinson                        Fiction   \n",
              "1  Charles Osborne;Agatha Christie  Detective and mystery stories   \n",
              "2             Stephen R. Donaldson               American fiction   \n",
              "3                   Sidney Sheldon                        Fiction   \n",
              "4              Clive Staples Lewis                 Christian life   \n",
              "\n",
              "                                           thumbnail  \\\n",
              "0  http://books.google.com/books/content?id=KQZCP...   \n",
              "1  http://books.google.com/books/content?id=gA5GP...   \n",
              "2  http://books.google.com/books/content?id=OmQaw...   \n",
              "3  http://books.google.com/books/content?id=FKo2T...   \n",
              "4  http://books.google.com/books/content?id=XhQ5X...   \n",
              "\n",
              "                                         description  published_year  \\\n",
              "0  A NOVEL THAT READERS and critics have been eag...          2004.0   \n",
              "1  A new 'Christie for Christmas' -- a full-lengt...          2000.0   \n",
              "2  Volume Two of Stephen Donaldson's acclaimed se...          1982.0   \n",
              "3  A memorable, mesmerizing heroine Jennifer -- b...          1993.0   \n",
              "4  Lewis' work on the nature of love divides love...          2002.0   \n",
              "\n",
              "   average_rating  num_pages  ratings_count  \n",
              "0            3.85      247.0          361.0  \n",
              "1            3.83      241.0         5164.0  \n",
              "2            3.97      479.0          172.0  \n",
              "3            3.93      512.0        29532.0  \n",
              "4            4.15      170.0        33684.0  "
            ]
          },
          "execution_count": 2,
          "metadata": {},
          "output_type": "execute_result"
        }
      ],
      "source": [
        "import pandas as pd\n",
        "import numpy as np\n",
        "df_books=pd.read_csv(path+'/books.csv')\n",
        "df_books.head()"
      ]
    },
    {
      "cell_type": "code",
      "execution_count": null,
      "metadata": {
        "colab": {
          "base_uri": "https://localhost:8080/",
          "height": 35
        },
        "id": "EzPm3oTeWTF9",
        "outputId": "b08974f4-6824-4dd8-e1bf-f6ed0e917c6f"
      },
      "outputs": [
        {
          "data": {
            "text/plain": [
              "'http://books.google.com/books/content?id=KQZCPgAACAAJ&printsec=frontcover&img=1&zoom=1&source=gbs_api'"
            ]
          },
          "execution_count": 19,
          "metadata": {},
          "output_type": "execute_result"
        }
      ],
      "source": [
        "df_books.loc[0,'thumbnail']"
      ]
    },
    {
      "cell_type": "code",
      "execution_count": null,
      "metadata": {
        "colab": {
          "base_uri": "https://localhost:8080/"
        },
        "id": "pvDoboFkT5Zi",
        "outputId": "c5a1cdff-4ab5-40a1-9aa5-9ff2bb915980"
      },
      "outputs": [
        {
          "data": {
            "text/plain": [
              "(6810, 12)"
            ]
          },
          "execution_count": 20,
          "metadata": {},
          "output_type": "execute_result"
        }
      ],
      "source": [
        "df_books.shape"
      ]
    },
    {
      "cell_type": "code",
      "execution_count": null,
      "metadata": {
        "colab": {
          "base_uri": "https://localhost:8080/"
        },
        "id": "g-TWPVKESZzq",
        "outputId": "a90aab4f-e1af-4d11-c108-b937b7801cca"
      },
      "outputs": [
        {
          "data": {
            "text/plain": [
              "6810"
            ]
          },
          "execution_count": 21,
          "metadata": {},
          "output_type": "execute_result"
        }
      ],
      "source": [
        "df_books.isbn13.nunique()"
      ]
    },
    {
      "cell_type": "code",
      "execution_count": null,
      "metadata": {
        "colab": {
          "base_uri": "https://localhost:8080/",
          "height": 154
        },
        "id": "ikwJT7akT9GR",
        "outputId": "46faa503-82d1-4634-9a04-64e77fb93a69"
      },
      "outputs": [
        {
          "data": {
            "text/plain": [
              "'A NOVEL THAT READERS and critics have been eagerly anticipating for over a decade, Gilead is an astonishingly imagined story of remarkable lives. John Ames is a preacher, the son of a preacher and the grandson (both maternal and paternal) of preachers. It’s 1956 in Gilead, Iowa, towards the end of the Reverend Ames’s life, and he is absorbed in recording his family’s story, a legacy for the young son he will never see grow up. Haunted by his grandfather’s presence, John tells of the rift between his grandfather and his father: the elder, an angry visionary who fought for the abolitionist cause, and his son, an ardent pacifist. He is troubled, too, by his prodigal namesake, Jack (John Ames) Boughton, his best friend’s lost son who returns to Gilead searching for forgiveness and redemption. Told in John Ames’s joyous, rambling voice that finds beauty, humour and truth in the smallest of life’s details, Gilead is a song of celebration and acceptance of the best and the worst the world has to offer. At its heart is a tale of the sacred bonds between fathers and sons, pitch-perfect in style and story, set to dazzle critics and readers alike.'"
            ]
          },
          "execution_count": 22,
          "metadata": {},
          "output_type": "execute_result"
        }
      ],
      "source": [
        "df_books[['title','description']].iloc[0,1]"
      ]
    },
    {
      "cell_type": "code",
      "execution_count": null,
      "metadata": {
        "id": "TDG_A3m24Rzj",
        "outputId": "7dd5d6a0-a1ca-4635-fe77-9b348befa1b6"
      },
      "outputs": [
        {
          "name": "stdout",
          "output_type": "stream",
          "text": [
            "Requirement already satisfied: huggingface_hub in /opt/anaconda3/lib/python3.12/site-packages (0.31.2)\n",
            "Requirement already satisfied: filelock in /opt/anaconda3/lib/python3.12/site-packages (from huggingface_hub) (3.13.1)\n",
            "Requirement already satisfied: fsspec>=2023.5.0 in /opt/anaconda3/lib/python3.12/site-packages (from huggingface_hub) (2024.6.1)\n",
            "Requirement already satisfied: packaging>=20.9 in /opt/anaconda3/lib/python3.12/site-packages (from huggingface_hub) (24.1)\n",
            "Requirement already satisfied: pyyaml>=5.1 in /opt/anaconda3/lib/python3.12/site-packages (from huggingface_hub) (6.0.1)\n",
            "Requirement already satisfied: requests in /opt/anaconda3/lib/python3.12/site-packages (from huggingface_hub) (2.32.3)\n",
            "Requirement already satisfied: tqdm>=4.42.1 in /opt/anaconda3/lib/python3.12/site-packages (from huggingface_hub) (4.66.5)\n",
            "Requirement already satisfied: typing-extensions>=3.7.4.3 in /opt/anaconda3/lib/python3.12/site-packages (from huggingface_hub) (4.11.0)\n",
            "Requirement already satisfied: charset-normalizer<4,>=2 in /opt/anaconda3/lib/python3.12/site-packages (from requests->huggingface_hub) (3.3.2)\n",
            "Requirement already satisfied: idna<4,>=2.5 in /opt/anaconda3/lib/python3.12/site-packages (from requests->huggingface_hub) (3.7)\n",
            "Requirement already satisfied: urllib3<3,>=1.21.1 in /opt/anaconda3/lib/python3.12/site-packages (from requests->huggingface_hub) (2.2.3)\n",
            "Requirement already satisfied: certifi>=2017.4.17 in /opt/anaconda3/lib/python3.12/site-packages (from requests->huggingface_hub) (2025.4.26)\n"
          ]
        }
      ],
      "source": [
        "!pip install huggingface_hub"
      ]
    },
    {
      "cell_type": "code",
      "execution_count": null,
      "metadata": {
        "id": "Prn2d14gUaw8"
      },
      "outputs": [],
      "source": [
        "from transformers import AutoTokenizer, AutoModel\n",
        "\n",
        "tokenizer = AutoTokenizer.from_pretrained('xlm-roberta-base')\n",
        "model = AutoModel.from_pretrained(\"xlm-roberta-base\")\n",
        "\n"
      ]
    },
    {
      "cell_type": "code",
      "execution_count": null,
      "metadata": {
        "id": "dsl04ocShCKl"
      },
      "outputs": [],
      "source": [
        "df_books=df_books[~df_books['description'].isnull()]"
      ]
    },
    {
      "cell_type": "code",
      "execution_count": null,
      "metadata": {
        "colab": {
          "base_uri": "https://localhost:8080/",
          "height": 238
        },
        "id": "myVglzPAdxbJ",
        "outputId": "99847925-cc0e-468d-98da-e308c858f531"
      },
      "outputs": [
        {
          "data": {
            "text/plain": [
              "0    A NOVEL THAT READERS and critics have been eag...\n",
              "1    A new 'Christie for Christmas' -- a full-lengt...\n",
              "2    Volume Two of Stephen Donaldson's acclaimed se...\n",
              "3    A memorable, mesmerizing heroine Jennifer -- b...\n",
              "4    Lewis' work on the nature of love divides love...\n",
              "Name: cln_description, dtype: object"
            ]
          },
          "execution_count": 5,
          "metadata": {},
          "output_type": "execute_result"
        }
      ],
      "source": [
        "import re\n",
        "\n",
        "def clean_text(text):\n",
        "    text = re.sub(r'\\s+', ' ', text)  # normalize whitespace\n",
        "    text = re.sub(r'[^\\x00-\\x7F]+', '', text)  # remove non-ASCII (if needed)\n",
        "    return text.strip()\n",
        "\n",
        "df_books['cln_description']=df_books['description'].apply(clean_text)\n",
        "df_books['cln_description'].head()"
      ]
    },
    {
      "cell_type": "code",
      "execution_count": null,
      "metadata": {
        "colab": {
          "base_uri": "https://localhost:8080/",
          "height": 513
        },
        "id": "Xlt_QF2he8ZP",
        "outputId": "81cf04f5-ab98-4c22-a264-348435eca6d2"
      },
      "outputs": [
        {
          "data": {
            "text/html": [
              "<div>\n",
              "<style scoped>\n",
              "    .dataframe tbody tr th:only-of-type {\n",
              "        vertical-align: middle;\n",
              "    }\n",
              "\n",
              "    .dataframe tbody tr th {\n",
              "        vertical-align: top;\n",
              "    }\n",
              "\n",
              "    .dataframe thead th {\n",
              "        text-align: right;\n",
              "    }\n",
              "</style>\n",
              "<table border=\"1\" class=\"dataframe\">\n",
              "  <thead>\n",
              "    <tr style=\"text-align: right;\">\n",
              "      <th></th>\n",
              "      <th>isbn13</th>\n",
              "      <th>isbn10</th>\n",
              "      <th>title</th>\n",
              "      <th>subtitle</th>\n",
              "      <th>authors</th>\n",
              "      <th>categories</th>\n",
              "      <th>thumbnail</th>\n",
              "      <th>description</th>\n",
              "      <th>published_year</th>\n",
              "      <th>average_rating</th>\n",
              "      <th>num_pages</th>\n",
              "      <th>ratings_count</th>\n",
              "      <th>cln_description</th>\n",
              "    </tr>\n",
              "  </thead>\n",
              "  <tbody>\n",
              "    <tr>\n",
              "      <th>0</th>\n",
              "      <td>9780002005883</td>\n",
              "      <td>0002005883</td>\n",
              "      <td>Gilead</td>\n",
              "      <td>NaN</td>\n",
              "      <td>Marilynne Robinson</td>\n",
              "      <td>Fiction</td>\n",
              "      <td>http://books.google.com/books/content?id=KQZCP...</td>\n",
              "      <td>A NOVEL THAT READERS and critics have been eag...</td>\n",
              "      <td>2004.0</td>\n",
              "      <td>3.85</td>\n",
              "      <td>247.0</td>\n",
              "      <td>361.0</td>\n",
              "      <td>A NOVEL THAT READERS and critics have been eag...</td>\n",
              "    </tr>\n",
              "    <tr>\n",
              "      <th>1</th>\n",
              "      <td>9780002261982</td>\n",
              "      <td>0002261987</td>\n",
              "      <td>Spider's Web</td>\n",
              "      <td>A Novel</td>\n",
              "      <td>Charles Osborne;Agatha Christie</td>\n",
              "      <td>Detective and mystery stories</td>\n",
              "      <td>http://books.google.com/books/content?id=gA5GP...</td>\n",
              "      <td>A new 'Christie for Christmas' -- a full-lengt...</td>\n",
              "      <td>2000.0</td>\n",
              "      <td>3.83</td>\n",
              "      <td>241.0</td>\n",
              "      <td>5164.0</td>\n",
              "      <td>A new 'Christie for Christmas' -- a full-lengt...</td>\n",
              "    </tr>\n",
              "    <tr>\n",
              "      <th>2</th>\n",
              "      <td>9780006163831</td>\n",
              "      <td>0006163831</td>\n",
              "      <td>The One Tree</td>\n",
              "      <td>NaN</td>\n",
              "      <td>Stephen R. Donaldson</td>\n",
              "      <td>American fiction</td>\n",
              "      <td>http://books.google.com/books/content?id=OmQaw...</td>\n",
              "      <td>Volume Two of Stephen Donaldson's acclaimed se...</td>\n",
              "      <td>1982.0</td>\n",
              "      <td>3.97</td>\n",
              "      <td>479.0</td>\n",
              "      <td>172.0</td>\n",
              "      <td>Volume Two of Stephen Donaldson's acclaimed se...</td>\n",
              "    </tr>\n",
              "    <tr>\n",
              "      <th>3</th>\n",
              "      <td>9780006178736</td>\n",
              "      <td>0006178731</td>\n",
              "      <td>Rage of angels</td>\n",
              "      <td>NaN</td>\n",
              "      <td>Sidney Sheldon</td>\n",
              "      <td>Fiction</td>\n",
              "      <td>http://books.google.com/books/content?id=FKo2T...</td>\n",
              "      <td>A memorable, mesmerizing heroine Jennifer -- b...</td>\n",
              "      <td>1993.0</td>\n",
              "      <td>3.93</td>\n",
              "      <td>512.0</td>\n",
              "      <td>29532.0</td>\n",
              "      <td>A memorable, mesmerizing heroine Jennifer -- b...</td>\n",
              "    </tr>\n",
              "    <tr>\n",
              "      <th>4</th>\n",
              "      <td>9780006280897</td>\n",
              "      <td>0006280897</td>\n",
              "      <td>The Four Loves</td>\n",
              "      <td>NaN</td>\n",
              "      <td>Clive Staples Lewis</td>\n",
              "      <td>Christian life</td>\n",
              "      <td>http://books.google.com/books/content?id=XhQ5X...</td>\n",
              "      <td>Lewis' work on the nature of love divides love...</td>\n",
              "      <td>2002.0</td>\n",
              "      <td>4.15</td>\n",
              "      <td>170.0</td>\n",
              "      <td>33684.0</td>\n",
              "      <td>Lewis' work on the nature of love divides love...</td>\n",
              "    </tr>\n",
              "    <tr>\n",
              "      <th>5</th>\n",
              "      <td>9780006280934</td>\n",
              "      <td>0006280935</td>\n",
              "      <td>The Problem of Pain</td>\n",
              "      <td>NaN</td>\n",
              "      <td>Clive Staples Lewis</td>\n",
              "      <td>Christian life</td>\n",
              "      <td>http://books.google.com/books/content?id=Kk-uV...</td>\n",
              "      <td>\"In The Problem of Pain, C.S. Lewis, one of th...</td>\n",
              "      <td>2002.0</td>\n",
              "      <td>4.09</td>\n",
              "      <td>176.0</td>\n",
              "      <td>37569.0</td>\n",
              "      <td>\"In The Problem of Pain, C.S. Lewis, one of th...</td>\n",
              "    </tr>\n",
              "    <tr>\n",
              "      <th>6</th>\n",
              "      <td>9780006353287</td>\n",
              "      <td>0006353282</td>\n",
              "      <td>An Autobiography</td>\n",
              "      <td>NaN</td>\n",
              "      <td>Agatha Christie</td>\n",
              "      <td>Authors, English</td>\n",
              "      <td>http://books.google.com/books/content?id=c49GQ...</td>\n",
              "      <td>Donation.</td>\n",
              "      <td>1977.0</td>\n",
              "      <td>4.27</td>\n",
              "      <td>560.0</td>\n",
              "      <td>3975.0</td>\n",
              "      <td>Donation.</td>\n",
              "    </tr>\n",
              "    <tr>\n",
              "      <th>7</th>\n",
              "      <td>9780006380832</td>\n",
              "      <td>0006380832</td>\n",
              "      <td>Empires of the Monsoon</td>\n",
              "      <td>A History of the Indian Ocean and Its Invaders</td>\n",
              "      <td>Richard Hall</td>\n",
              "      <td>Africa, East</td>\n",
              "      <td>http://books.google.com/books/content?id=MuPEQ...</td>\n",
              "      <td>Until Vasco da Gama discovered the sea-route t...</td>\n",
              "      <td>1998.0</td>\n",
              "      <td>4.41</td>\n",
              "      <td>608.0</td>\n",
              "      <td>65.0</td>\n",
              "      <td>Until Vasco da Gama discovered the sea-route t...</td>\n",
              "    </tr>\n",
              "    <tr>\n",
              "      <th>8</th>\n",
              "      <td>9780006470229</td>\n",
              "      <td>000647022X</td>\n",
              "      <td>The Gap Into Madness</td>\n",
              "      <td>Chaos and Order</td>\n",
              "      <td>Stephen R. Donaldson</td>\n",
              "      <td>Hyland, Morn (Fictitious character)</td>\n",
              "      <td>http://books.google.com/books/content?id=4oXav...</td>\n",
              "      <td>A new-cover reissue of the fourth book in the ...</td>\n",
              "      <td>1994.0</td>\n",
              "      <td>4.15</td>\n",
              "      <td>743.0</td>\n",
              "      <td>103.0</td>\n",
              "      <td>A new-cover reissue of the fourth book in the ...</td>\n",
              "    </tr>\n",
              "    <tr>\n",
              "      <th>9</th>\n",
              "      <td>9780006472612</td>\n",
              "      <td>0006472613</td>\n",
              "      <td>Master of the Game</td>\n",
              "      <td>NaN</td>\n",
              "      <td>Sidney Sheldon</td>\n",
              "      <td>Adventure stories</td>\n",
              "      <td>http://books.google.com/books/content?id=TkTYp...</td>\n",
              "      <td>Kate Blackwell is an enigma and one of the mos...</td>\n",
              "      <td>1982.0</td>\n",
              "      <td>4.11</td>\n",
              "      <td>489.0</td>\n",
              "      <td>43540.0</td>\n",
              "      <td>Kate Blackwell is an enigma and one of the mos...</td>\n",
              "    </tr>\n",
              "    <tr>\n",
              "      <th>10</th>\n",
              "      <td>9780006479673</td>\n",
              "      <td>0006479677</td>\n",
              "      <td>If Tomorrow Comes</td>\n",
              "      <td>NaN</td>\n",
              "      <td>Sidney Sheldon</td>\n",
              "      <td>Adventure stories</td>\n",
              "      <td>http://books.google.com/books/content?id=l2tBi...</td>\n",
              "      <td>One of Sidney Sheldon's most popular and bests...</td>\n",
              "      <td>1994.0</td>\n",
              "      <td>4.04</td>\n",
              "      <td>501.0</td>\n",
              "      <td>49170.0</td>\n",
              "      <td>One of Sidney Sheldon's most popular and bests...</td>\n",
              "    </tr>\n",
              "    <tr>\n",
              "      <th>11</th>\n",
              "      <td>9780006480099</td>\n",
              "      <td>0006480098</td>\n",
              "      <td>Assassin's Apprentice</td>\n",
              "      <td>NaN</td>\n",
              "      <td>Robin Hobb</td>\n",
              "      <td>American fiction</td>\n",
              "      <td>http://books.google.com/books/content?id=qTaGQ...</td>\n",
              "      <td>Fantasy-roman.</td>\n",
              "      <td>1996.0</td>\n",
              "      <td>4.15</td>\n",
              "      <td>460.0</td>\n",
              "      <td>133972.0</td>\n",
              "      <td>Fantasy-roman.</td>\n",
              "    </tr>\n",
              "    <tr>\n",
              "      <th>12</th>\n",
              "      <td>9780006482079</td>\n",
              "      <td>0006482074</td>\n",
              "      <td>Warhost of Vastmark</td>\n",
              "      <td>NaN</td>\n",
              "      <td>Janny Wurts</td>\n",
              "      <td>Fiction</td>\n",
              "      <td>http://books.google.com/books/content?id=uOL0f...</td>\n",
              "      <td>Tricked once more by his wily half-brother, Ly...</td>\n",
              "      <td>1995.0</td>\n",
              "      <td>4.03</td>\n",
              "      <td>522.0</td>\n",
              "      <td>2966.0</td>\n",
              "      <td>Tricked once more by his wily half-brother, Ly...</td>\n",
              "    </tr>\n",
              "    <tr>\n",
              "      <th>13</th>\n",
              "      <td>9780006483014</td>\n",
              "      <td>0006483011</td>\n",
              "      <td>The Once and Future King</td>\n",
              "      <td>NaN</td>\n",
              "      <td>Terence Hanbury White</td>\n",
              "      <td>Arthurian romances</td>\n",
              "      <td>http://books.google.com/books/content?id=Jx6Bv...</td>\n",
              "      <td>An omnibus volume of the author's complete sto...</td>\n",
              "      <td>1996.0</td>\n",
              "      <td>4.04</td>\n",
              "      <td>823.0</td>\n",
              "      <td>2805.0</td>\n",
              "      <td>An omnibus volume of the author's complete sto...</td>\n",
              "    </tr>\n",
              "    <tr>\n",
              "      <th>14</th>\n",
              "      <td>9780006483892</td>\n",
              "      <td>0006483895</td>\n",
              "      <td>Murder in LaMut</td>\n",
              "      <td>NaN</td>\n",
              "      <td>Raymond E. Feist;Joel Rosenberg</td>\n",
              "      <td>Adventure stories</td>\n",
              "      <td>http://books.google.com/books/content?id=I2jbB...</td>\n",
              "      <td>Available in the U.S. for the first time, this...</td>\n",
              "      <td>2003.0</td>\n",
              "      <td>3.70</td>\n",
              "      <td>337.0</td>\n",
              "      <td>5083.0</td>\n",
              "      <td>Available in the U.S. for the first time, this...</td>\n",
              "    </tr>\n",
              "    <tr>\n",
              "      <th>15</th>\n",
              "      <td>9780006483908</td>\n",
              "      <td>0006483909</td>\n",
              "      <td>Jimmy the Hand</td>\n",
              "      <td>NaN</td>\n",
              "      <td>Raymond E. Feist;S. M. Stirling</td>\n",
              "      <td>Fantasy fiction</td>\n",
              "      <td>http://books.google.com/books/content?id=hV4-o...</td>\n",
              "      <td>Jimmy the Hand, boy thief of Krondor, lived in...</td>\n",
              "      <td>2003.0</td>\n",
              "      <td>3.95</td>\n",
              "      <td>368.0</td>\n",
              "      <td>5579.0</td>\n",
              "      <td>Jimmy the Hand, boy thief of Krondor, lived in...</td>\n",
              "    </tr>\n",
              "    <tr>\n",
              "      <th>16</th>\n",
              "      <td>9780006486145</td>\n",
              "      <td>0006486142</td>\n",
              "      <td>Well of Darkness</td>\n",
              "      <td>NaN</td>\n",
              "      <td>Margaret Weis;Tracy Hickman</td>\n",
              "      <td>NaN</td>\n",
              "      <td>http://books.google.com/books/content?id=XrwaA...</td>\n",
              "      <td>Gareth is just a frightened young lad when he ...</td>\n",
              "      <td>2001.0</td>\n",
              "      <td>3.66</td>\n",
              "      <td>599.0</td>\n",
              "      <td>68.0</td>\n",
              "      <td>Gareth is just a frightened young lad when he ...</td>\n",
              "    </tr>\n",
              "    <tr>\n",
              "      <th>17</th>\n",
              "      <td>9780006490456</td>\n",
              "      <td>000649045X</td>\n",
              "      <td>Witness for the Prosecution &amp; Selected Plays</td>\n",
              "      <td>NaN</td>\n",
              "      <td>Agatha Christie</td>\n",
              "      <td>English drama</td>\n",
              "      <td>http://books.google.com/books/content?id=_9u7A...</td>\n",
              "      <td>Newly-Jacketed Edition Designed To Celebrate T...</td>\n",
              "      <td>1995.0</td>\n",
              "      <td>4.05</td>\n",
              "      <td>352.0</td>\n",
              "      <td>3908.0</td>\n",
              "      <td>Newly-Jacketed Edition Designed To Celebrate T...</td>\n",
              "    </tr>\n",
              "    <tr>\n",
              "      <th>18</th>\n",
              "      <td>9780006496434</td>\n",
              "      <td>0006496431</td>\n",
              "      <td>The Little House</td>\n",
              "      <td>NaN</td>\n",
              "      <td>Philippa Gregory</td>\n",
              "      <td>Country life</td>\n",
              "      <td>http://books.google.com/books/content?id=rbvUP...</td>\n",
              "      <td>It was easy for Elizabeth. She married the man...</td>\n",
              "      <td>1998.0</td>\n",
              "      <td>3.66</td>\n",
              "      <td>368.0</td>\n",
              "      <td>1832.0</td>\n",
              "      <td>It was easy for Elizabeth. She married the man...</td>\n",
              "    </tr>\n",
              "    <tr>\n",
              "      <th>19</th>\n",
              "      <td>9780006496878</td>\n",
              "      <td>0006496873</td>\n",
              "      <td>Mystical Paths</td>\n",
              "      <td>NaN</td>\n",
              "      <td>Susan Howatch</td>\n",
              "      <td>English fiction</td>\n",
              "      <td>http://books.google.com/books/content?id=by4yt...</td>\n",
              "      <td>1968 finds Nicholas Darrow wrestling with pers...</td>\n",
              "      <td>1996.0</td>\n",
              "      <td>4.23</td>\n",
              "      <td>576.0</td>\n",
              "      <td>1023.0</td>\n",
              "      <td>1968 finds Nicholas Darrow wrestling with pers...</td>\n",
              "    </tr>\n",
              "  </tbody>\n",
              "</table>\n",
              "</div>"
            ],
            "text/plain": [
              "           isbn13      isbn10                                         title  \\\n",
              "0   9780002005883  0002005883                                        Gilead   \n",
              "1   9780002261982  0002261987                                  Spider's Web   \n",
              "2   9780006163831  0006163831                                  The One Tree   \n",
              "3   9780006178736  0006178731                                Rage of angels   \n",
              "4   9780006280897  0006280897                                The Four Loves   \n",
              "5   9780006280934  0006280935                           The Problem of Pain   \n",
              "6   9780006353287  0006353282                              An Autobiography   \n",
              "7   9780006380832  0006380832                        Empires of the Monsoon   \n",
              "8   9780006470229  000647022X                          The Gap Into Madness   \n",
              "9   9780006472612  0006472613                            Master of the Game   \n",
              "10  9780006479673  0006479677                             If Tomorrow Comes   \n",
              "11  9780006480099  0006480098                         Assassin's Apprentice   \n",
              "12  9780006482079  0006482074                           Warhost of Vastmark   \n",
              "13  9780006483014  0006483011                      The Once and Future King   \n",
              "14  9780006483892  0006483895                               Murder in LaMut   \n",
              "15  9780006483908  0006483909                                Jimmy the Hand   \n",
              "16  9780006486145  0006486142                              Well of Darkness   \n",
              "17  9780006490456  000649045X  Witness for the Prosecution & Selected Plays   \n",
              "18  9780006496434  0006496431                              The Little House   \n",
              "19  9780006496878  0006496873                                Mystical Paths   \n",
              "\n",
              "                                          subtitle  \\\n",
              "0                                              NaN   \n",
              "1                                          A Novel   \n",
              "2                                              NaN   \n",
              "3                                              NaN   \n",
              "4                                              NaN   \n",
              "5                                              NaN   \n",
              "6                                              NaN   \n",
              "7   A History of the Indian Ocean and Its Invaders   \n",
              "8                                  Chaos and Order   \n",
              "9                                              NaN   \n",
              "10                                             NaN   \n",
              "11                                             NaN   \n",
              "12                                             NaN   \n",
              "13                                             NaN   \n",
              "14                                             NaN   \n",
              "15                                             NaN   \n",
              "16                                             NaN   \n",
              "17                                             NaN   \n",
              "18                                             NaN   \n",
              "19                                             NaN   \n",
              "\n",
              "                            authors                           categories  \\\n",
              "0                Marilynne Robinson                              Fiction   \n",
              "1   Charles Osborne;Agatha Christie        Detective and mystery stories   \n",
              "2              Stephen R. Donaldson                     American fiction   \n",
              "3                    Sidney Sheldon                              Fiction   \n",
              "4               Clive Staples Lewis                       Christian life   \n",
              "5               Clive Staples Lewis                       Christian life   \n",
              "6                   Agatha Christie                     Authors, English   \n",
              "7                      Richard Hall                         Africa, East   \n",
              "8              Stephen R. Donaldson  Hyland, Morn (Fictitious character)   \n",
              "9                    Sidney Sheldon                    Adventure stories   \n",
              "10                   Sidney Sheldon                    Adventure stories   \n",
              "11                       Robin Hobb                     American fiction   \n",
              "12                      Janny Wurts                              Fiction   \n",
              "13            Terence Hanbury White                   Arthurian romances   \n",
              "14  Raymond E. Feist;Joel Rosenberg                    Adventure stories   \n",
              "15  Raymond E. Feist;S. M. Stirling                      Fantasy fiction   \n",
              "16      Margaret Weis;Tracy Hickman                                  NaN   \n",
              "17                  Agatha Christie                        English drama   \n",
              "18                 Philippa Gregory                         Country life   \n",
              "19                    Susan Howatch                      English fiction   \n",
              "\n",
              "                                            thumbnail  \\\n",
              "0   http://books.google.com/books/content?id=KQZCP...   \n",
              "1   http://books.google.com/books/content?id=gA5GP...   \n",
              "2   http://books.google.com/books/content?id=OmQaw...   \n",
              "3   http://books.google.com/books/content?id=FKo2T...   \n",
              "4   http://books.google.com/books/content?id=XhQ5X...   \n",
              "5   http://books.google.com/books/content?id=Kk-uV...   \n",
              "6   http://books.google.com/books/content?id=c49GQ...   \n",
              "7   http://books.google.com/books/content?id=MuPEQ...   \n",
              "8   http://books.google.com/books/content?id=4oXav...   \n",
              "9   http://books.google.com/books/content?id=TkTYp...   \n",
              "10  http://books.google.com/books/content?id=l2tBi...   \n",
              "11  http://books.google.com/books/content?id=qTaGQ...   \n",
              "12  http://books.google.com/books/content?id=uOL0f...   \n",
              "13  http://books.google.com/books/content?id=Jx6Bv...   \n",
              "14  http://books.google.com/books/content?id=I2jbB...   \n",
              "15  http://books.google.com/books/content?id=hV4-o...   \n",
              "16  http://books.google.com/books/content?id=XrwaA...   \n",
              "17  http://books.google.com/books/content?id=_9u7A...   \n",
              "18  http://books.google.com/books/content?id=rbvUP...   \n",
              "19  http://books.google.com/books/content?id=by4yt...   \n",
              "\n",
              "                                          description  published_year  \\\n",
              "0   A NOVEL THAT READERS and critics have been eag...          2004.0   \n",
              "1   A new 'Christie for Christmas' -- a full-lengt...          2000.0   \n",
              "2   Volume Two of Stephen Donaldson's acclaimed se...          1982.0   \n",
              "3   A memorable, mesmerizing heroine Jennifer -- b...          1993.0   \n",
              "4   Lewis' work on the nature of love divides love...          2002.0   \n",
              "5   \"In The Problem of Pain, C.S. Lewis, one of th...          2002.0   \n",
              "6                                           Donation.          1977.0   \n",
              "7   Until Vasco da Gama discovered the sea-route t...          1998.0   \n",
              "8   A new-cover reissue of the fourth book in the ...          1994.0   \n",
              "9   Kate Blackwell is an enigma and one of the mos...          1982.0   \n",
              "10  One of Sidney Sheldon's most popular and bests...          1994.0   \n",
              "11                                     Fantasy-roman.          1996.0   \n",
              "12  Tricked once more by his wily half-brother, Ly...          1995.0   \n",
              "13  An omnibus volume of the author's complete sto...          1996.0   \n",
              "14  Available in the U.S. for the first time, this...          2003.0   \n",
              "15  Jimmy the Hand, boy thief of Krondor, lived in...          2003.0   \n",
              "16  Gareth is just a frightened young lad when he ...          2001.0   \n",
              "17  Newly-Jacketed Edition Designed To Celebrate T...          1995.0   \n",
              "18  It was easy for Elizabeth. She married the man...          1998.0   \n",
              "19  1968 finds Nicholas Darrow wrestling with pers...          1996.0   \n",
              "\n",
              "    average_rating  num_pages  ratings_count  \\\n",
              "0             3.85      247.0          361.0   \n",
              "1             3.83      241.0         5164.0   \n",
              "2             3.97      479.0          172.0   \n",
              "3             3.93      512.0        29532.0   \n",
              "4             4.15      170.0        33684.0   \n",
              "5             4.09      176.0        37569.0   \n",
              "6             4.27      560.0         3975.0   \n",
              "7             4.41      608.0           65.0   \n",
              "8             4.15      743.0          103.0   \n",
              "9             4.11      489.0        43540.0   \n",
              "10            4.04      501.0        49170.0   \n",
              "11            4.15      460.0       133972.0   \n",
              "12            4.03      522.0         2966.0   \n",
              "13            4.04      823.0         2805.0   \n",
              "14            3.70      337.0         5083.0   \n",
              "15            3.95      368.0         5579.0   \n",
              "16            3.66      599.0           68.0   \n",
              "17            4.05      352.0         3908.0   \n",
              "18            3.66      368.0         1832.0   \n",
              "19            4.23      576.0         1023.0   \n",
              "\n",
              "                                      cln_description  \n",
              "0   A NOVEL THAT READERS and critics have been eag...  \n",
              "1   A new 'Christie for Christmas' -- a full-lengt...  \n",
              "2   Volume Two of Stephen Donaldson's acclaimed se...  \n",
              "3   A memorable, mesmerizing heroine Jennifer -- b...  \n",
              "4   Lewis' work on the nature of love divides love...  \n",
              "5   \"In The Problem of Pain, C.S. Lewis, one of th...  \n",
              "6                                           Donation.  \n",
              "7   Until Vasco da Gama discovered the sea-route t...  \n",
              "8   A new-cover reissue of the fourth book in the ...  \n",
              "9   Kate Blackwell is an enigma and one of the mos...  \n",
              "10  One of Sidney Sheldon's most popular and bests...  \n",
              "11                                     Fantasy-roman.  \n",
              "12  Tricked once more by his wily half-brother, Ly...  \n",
              "13  An omnibus volume of the author's complete sto...  \n",
              "14  Available in the U.S. for the first time, this...  \n",
              "15  Jimmy the Hand, boy thief of Krondor, lived in...  \n",
              "16  Gareth is just a frightened young lad when he ...  \n",
              "17  Newly-Jacketed Edition Designed To Celebrate T...  \n",
              "18  It was easy for Elizabeth. She married the man...  \n",
              "19  1968 finds Nicholas Darrow wrestling with pers...  "
            ]
          },
          "execution_count": 45,
          "metadata": {},
          "output_type": "execute_result"
        }
      ],
      "source": [
        "df_books.head(20)"
      ]
    },
    {
      "cell_type": "code",
      "execution_count": null,
      "metadata": {
        "colab": {
          "base_uri": "https://localhost:8080/"
        },
        "id": "2iqqPo-CnUOI",
        "outputId": "8218f5ba-70eb-4cf1-e39c-25b1b7a331ed"
      },
      "outputs": [
        {
          "name": "stdout",
          "output_type": "stream",
          "text": [
            "Using device: mps\n"
          ]
        }
      ],
      "source": [
        "import torch\n",
        "\n",
        "device = torch.device(\"mps\" if torch.backends.mps.is_available() else \"cpu\")\n",
        "print(\"Using device:\", device)"
      ]
    },
    {
      "cell_type": "code",
      "execution_count": null,
      "metadata": {
        "id": "UkKOfuupxFIz"
      },
      "outputs": [],
      "source": [
        "import gc\n",
        "import torch\n",
        "\n",
        "# Delete unused variables\n",
        "del model, encoded_input, outputs, outputs2  # or any large tensors\n",
        "gc.collect()\n",
        "\n",
        "# Clear MPS cache\n",
        "torch.mps.empty_cache()"
      ]
    },
    {
      "cell_type": "code",
      "execution_count": null,
      "metadata": {
        "colab": {
          "base_uri": "https://localhost:8080/"
        },
        "id": "oZudCBmonZN9",
        "outputId": "d0e353d6-4b90-49a0-d001-112e3ca6c076"
      },
      "outputs": [
        {
          "data": {
            "text/plain": [
              "XLMRobertaModel(\n",
              "  (embeddings): XLMRobertaEmbeddings(\n",
              "    (word_embeddings): Embedding(250002, 768, padding_idx=1)\n",
              "    (position_embeddings): Embedding(514, 768, padding_idx=1)\n",
              "    (token_type_embeddings): Embedding(1, 768)\n",
              "    (LayerNorm): LayerNorm((768,), eps=1e-05, elementwise_affine=True)\n",
              "    (dropout): Dropout(p=0.1, inplace=False)\n",
              "  )\n",
              "  (encoder): XLMRobertaEncoder(\n",
              "    (layer): ModuleList(\n",
              "      (0-11): 12 x XLMRobertaLayer(\n",
              "        (attention): XLMRobertaAttention(\n",
              "          (self): XLMRobertaSdpaSelfAttention(\n",
              "            (query): Linear(in_features=768, out_features=768, bias=True)\n",
              "            (key): Linear(in_features=768, out_features=768, bias=True)\n",
              "            (value): Linear(in_features=768, out_features=768, bias=True)\n",
              "            (dropout): Dropout(p=0.1, inplace=False)\n",
              "          )\n",
              "          (output): XLMRobertaSelfOutput(\n",
              "            (dense): Linear(in_features=768, out_features=768, bias=True)\n",
              "            (LayerNorm): LayerNorm((768,), eps=1e-05, elementwise_affine=True)\n",
              "            (dropout): Dropout(p=0.1, inplace=False)\n",
              "          )\n",
              "        )\n",
              "        (intermediate): XLMRobertaIntermediate(\n",
              "          (dense): Linear(in_features=768, out_features=3072, bias=True)\n",
              "          (intermediate_act_fn): GELUActivation()\n",
              "        )\n",
              "        (output): XLMRobertaOutput(\n",
              "          (dense): Linear(in_features=3072, out_features=768, bias=True)\n",
              "          (LayerNorm): LayerNorm((768,), eps=1e-05, elementwise_affine=True)\n",
              "          (dropout): Dropout(p=0.1, inplace=False)\n",
              "        )\n",
              "      )\n",
              "    )\n",
              "  )\n",
              "  (pooler): XLMRobertaPooler(\n",
              "    (dense): Linear(in_features=768, out_features=768, bias=True)\n",
              "    (activation): Tanh()\n",
              "  )\n",
              ")"
            ]
          },
          "execution_count": 7,
          "metadata": {},
          "output_type": "execute_result"
        }
      ],
      "source": [
        "model.to(device)\n",
        "model.eval()"
      ]
    },
    {
      "cell_type": "code",
      "execution_count": null,
      "metadata": {
        "colab": {
          "base_uri": "https://localhost:8080/"
        },
        "id": "nnTNcJsFcVmk",
        "outputId": "022c6c26-8f4b-4d97-aadd-06e2c5365c7f"
      },
      "outputs": [
        {
          "data": {
            "text/plain": [
              "Encoding(num_tokens=512, attributes=[ids, type_ids, tokens, offsets, attention_mask, special_tokens_mask, overflowing])"
            ]
          },
          "execution_count": 8,
          "metadata": {},
          "output_type": "execute_result"
        }
      ],
      "source": [
        "# prepare input\n",
        "text = df_books['cln_description'].to_list()\n",
        "encoded_input = tokenizer(text, return_tensors='pt', max_length=512,truncation=True, padding=True, padding_side='right')\n",
        "\n",
        "encoded_input[0]"
      ]
    },
    {
      "cell_type": "code",
      "execution_count": null,
      "metadata": {
        "colab": {
          "base_uri": "https://localhost:8080/"
        },
        "id": "4XeoIRyeiOlf",
        "outputId": "39b2dd61-982c-4f4e-9b21-28c4573ae316"
      },
      "outputs": [
        {
          "data": {
            "text/plain": [
              "tensor([[     0,     62, 195488,  ...,      1,      1,      1],\n",
              "        [     0,     62,   3525,  ...,      1,      1,      1],\n",
              "        [     0,  98872,  32964,  ...,      1,      1,      1],\n",
              "        ...,\n",
              "        [     0,  19953,     53,  ...,      1,      1,      1],\n",
              "        [     0,   6561,    111,  ...,      1,      1,      1],\n",
              "        [     0,    581,   4734,  ...,      1,      1,      1]])"
            ]
          },
          "execution_count": 9,
          "metadata": {},
          "output_type": "execute_result"
        }
      ],
      "source": [
        "encoded_input['input_ids'][0:100]"
      ]
    },
    {
      "cell_type": "code",
      "execution_count": null,
      "metadata": {
        "id": "h7uT1gEmnoL_"
      },
      "outputs": [],
      "source": [
        "encoded_input = {k: v.to(device) for k, v in encoded_input.items()}"
      ]
    },
    {
      "cell_type": "code",
      "execution_count": null,
      "metadata": {
        "id": "WMqZlSktx7nb",
        "scrolled": true,
        "outputId": "2a8aa5f6-e209-4262-9ec2-2e1bed96ea19"
      },
      "outputs": [
        {
          "data": {
            "text/plain": [
              "261.92"
            ]
          },
          "execution_count": 10,
          "metadata": {},
          "output_type": "execute_result"
        }
      ],
      "source": [
        "# outputs = model(**encoded_input)\n",
        "len(text)/25"
      ]
    },
    {
      "cell_type": "code",
      "execution_count": null,
      "metadata": {
        "id": "Mn02zG7TcjHr"
      },
      "outputs": [],
      "source": [
        "# forward pass\n",
        "outputs = []\n",
        "\n",
        "batch_size = 25\n",
        "for i in range(0, batch_size*262, batch_size):\n",
        "    encoded_input2 = {k: v[i:i+batch_size].to(device) for k, v in encoded_input.items()}\n",
        "    with torch.no_grad():\n",
        "        outputs2 = model(**encoded_input2)\n",
        "    outputs.append(outputs2.last_hidden_state[:, 0, :] )\n",
        "\n",
        "embeddings = torch.cat(outputs, dim=0)"
      ]
    },
    {
      "cell_type": "code",
      "execution_count": null,
      "metadata": {
        "scrolled": true,
        "id": "u0z6nKkM4Rzl",
        "outputId": "2cebd376-f6f9-4e19-f1df-3ad20c6fc265"
      },
      "outputs": [
        {
          "data": {
            "text/plain": [
              "torch.Size([6548, 768])"
            ]
          },
          "execution_count": 12,
          "metadata": {},
          "output_type": "execute_result"
        }
      ],
      "source": [
        "embeddings.shape"
      ]
    },
    {
      "cell_type": "code",
      "execution_count": null,
      "metadata": {
        "id": "O65cfgLm4Rzl"
      },
      "outputs": [],
      "source": [
        "cls_np = embeddings.cpu().numpy().astype(\"float32\")"
      ]
    },
    {
      "cell_type": "code",
      "execution_count": null,
      "metadata": {
        "id": "8gzfVfv34Rzl",
        "outputId": "d432b338-b95d-4e04-b2a3-a11797b9b273"
      },
      "outputs": [
        {
          "data": {
            "text/plain": [
              "array([[ 0.57507765,  0.3550621 ,  0.5599906 , ..., -0.13909203,\n",
              "         0.5413295 ,  0.03729209],\n",
              "       [ 0.18777524, -0.08851093, -0.10397593, ..., -0.19964676,\n",
              "        -0.47347963,  0.02475517],\n",
              "       [-0.0753711 ,  0.12534392, -0.21612324, ..., -0.24536994,\n",
              "         0.02377414, -0.29631615],\n",
              "       ...,\n",
              "       [ 0.4618827 ,  0.3611526 ,  0.10759313, ..., -0.51481545,\n",
              "         0.1797769 ,  0.17410612],\n",
              "       [ 0.4618827 ,  0.3611526 ,  0.10759313, ..., -0.51481545,\n",
              "         0.1797769 ,  0.17410612],\n",
              "       [ 0.4618827 ,  0.3611526 ,  0.10759313, ..., -0.51481545,\n",
              "         0.1797769 ,  0.17410612]], dtype=float32)"
            ]
          },
          "execution_count": 18,
          "metadata": {},
          "output_type": "execute_result"
        }
      ],
      "source": [
        "cls_np"
      ]
    },
    {
      "cell_type": "code",
      "execution_count": null,
      "metadata": {
        "id": "q8Oc0nvP4Rzl",
        "outputId": "b7f3ca03-01d9-473e-c874-d836f72b18ef"
      },
      "outputs": [
        {
          "name": "stderr",
          "output_type": "stream",
          "text": [
            "huggingface/tokenizers: The current process just got forked, after parallelism has already been used. Disabling parallelism to avoid deadlocks...\n",
            "To disable this warning, you can either:\n",
            "\t- Avoid using `tokenizers` before the fork if possible\n",
            "\t- Explicitly set the environment variable TOKENIZERS_PARALLELISM=(true | false)\n"
          ]
        },
        {
          "name": "stdout",
          "output_type": "stream",
          "text": [
            "Collecting faiss-cpu\n",
            "  Downloading faiss_cpu-1.11.0-cp312-cp312-macosx_14_0_arm64.whl.metadata (4.8 kB)\n",
            "Requirement already satisfied: numpy<3.0,>=1.25.0 in /opt/anaconda3/lib/python3.12/site-packages (from faiss-cpu) (1.26.4)\n",
            "Requirement already satisfied: packaging in /opt/anaconda3/lib/python3.12/site-packages (from faiss-cpu) (24.1)\n",
            "Downloading faiss_cpu-1.11.0-cp312-cp312-macosx_14_0_arm64.whl (3.3 MB)\n",
            "\u001b[2K   \u001b[90m━━━━━━━━━━━━━━━━━━━━━━━━━━━━━━━━━━━━━━━━\u001b[0m \u001b[32m3.3/3.3 MB\u001b[0m \u001b[31m27.8 MB/s\u001b[0m eta \u001b[36m0:00:00\u001b[0m\n",
            "\u001b[?25hInstalling collected packages: faiss-cpu\n",
            "Successfully installed faiss-cpu-1.11.0\n"
          ]
        }
      ],
      "source": [
        "!pip install faiss-cpu"
      ]
    },
    {
      "cell_type": "code",
      "execution_count": null,
      "metadata": {
        "id": "7xX_E9t04Rzm"
      },
      "outputs": [],
      "source": [
        "import faiss\n",
        "import pandas as pd\n",
        "\n",
        "\n",
        "\n",
        "# Create FAISS index (cosine)\n",
        "# Add vectors to index\n",
        "cls_np_norm = cls_np / np.linalg.norm(cls_np, axis=1, keepdims=True)\n",
        "index = faiss.IndexFlatIP(cls_np_norm.shape[1])  # IP = Inner Product ≈ cosine\n",
        "index.add(cls_np_norm)\n",
        "\n",
        "# Save text metadata\n",
        "# text_df = df_books\n",
        "df_books.to_csv(\"/users/hemanth/Documents/data_science/data/books_cbrecomendation.csv\", index=False)\n",
        "faiss.write_index(index, \"/users/hemanth/Documents/data_science/data/cls_index.faiss\")"
      ]
    },
    {
      "cell_type": "code",
      "execution_count": null,
      "metadata": {
        "id": "Iq_ESjXx4Rzm"
      },
      "outputs": [],
      "source": [
        "def topk_recomendations(text_book_input,model,k, description=''):\n",
        "    if len(description.split())> 10:\n",
        "        query_input = tokenizer(clean_text(description), return_tensors=\"pt\", truncation=True, padding=True,padding_side='right').to(device)\n",
        "        with torch.no_grad():\n",
        "            query_output = model(**query_input)\n",
        "        query_embedding = query_output.last_hidden_state[:, 0, :].cpu().numpy().astype(\"float32\")\n",
        "        distances, indices = index.search(query_embedding, k)\n",
        "        return distances, indices\n",
        "    elif len(text_book_input)>0:\n",
        "        query_df =df_books[df_books['title'].str.contains(text_book_input)]\n",
        "        if query_df.shape[0]==0:\n",
        "            print('text book name out-of-scope: provide/ try with short description')\n",
        "        else:\n",
        "            final_indices={}\n",
        "            for i in query_df.index.tolist():\n",
        "                # print(query_df.loc[i,'cln_description'], query_df.loc[i,'title'])\n",
        "                query_input = tokenizer(query_df.loc[i,'cln_description'], return_tensors=\"pt\", truncation=True, padding=True,padding_side='right').to(device)\n",
        "                with torch.no_grad():\n",
        "                    query_output = model(**query_input)\n",
        "                query_embedding = query_output.last_hidden_state[:, 0, :].cpu().numpy().astype(\"float32\")\n",
        "                distances, indices = index.search(query_embedding, k)\n",
        "                # print(distances, indices)\n",
        "                if not final_indices:\n",
        "                    final_indices=dict(zip(indices[0].tolist(), distances[0].tolist()))\n",
        "                else:\n",
        "                    for i in range(len(indices[0])):\n",
        "                        if indices[0][i] in final_indices.keys():\n",
        "                            # print(indices[0][i],distances[i],final_indices[indices[0][i]])\n",
        "                            final_indices[indices[0][i]]=min(distances[0][i],final_indices[indices[0][i]])\n",
        "                        else:\n",
        "                            final_indices[indices[0][i]]=distances[0][i]\n",
        "            sorted_dict = dict(sorted(final_indices.items(), key=lambda item: item[1]))\n",
        "            return  np.array(list(sorted_dict.values())[:k]), np.array(list(sorted_dict.keys())[:k])\n",
        "\n",
        "\n",
        ""
      ]
    },
    {
      "cell_type": "code",
      "execution_count": null,
      "metadata": {
        "id": "f9N2XMuv4Rzm",
        "outputId": "1b7bc279-5a86-46e8-d61c-56c6f2754788"
      },
      "outputs": [
        {
          "name": "stdout",
          "output_type": "stream",
          "text": [
            "[[18.58976  18.589441 18.58941  18.589037 18.58801 ]] [[5632 3072 4096    0 6144]]\n"
          ]
        },
        {
          "data": {
            "text/plain": [
              "(array([18.58801079, 18.58903694, 18.58941078, 18.5894413 , 18.58975983]),\n",
              " array([6144,    0, 4096, 3072, 5632]))"
            ]
          },
          "execution_count": 33,
          "metadata": {},
          "output_type": "execute_result"
        }
      ],
      "source": [
        "topk_recomendations('Gilead',model=model,k=5)"
      ]
    },
    {
      "cell_type": "code",
      "execution_count": null,
      "metadata": {
        "id": "Req42NED4Rzm",
        "outputId": "ce9a3464-8156-4e64-d995-8638aeda9773"
      },
      "outputs": [
        {
          "name": "stdout",
          "output_type": "stream",
          "text": [
            "Gareth is just a frightened young lad when he is drafted in to be the whipping-boy for the unruly Prince Dagnarus. Yet as they grow to be men, an unshakable bond is formed. And it is their destiny for them to become the two most powerful - and feared - men in the kingdom. But when Dagnarus decides to become a knight himself, he begins a chain of evil events that threaten to destroy the entire kingdom. Only by uniting the Sovereign Stone can peace be restored, and it is up to Dagnarus' brother Helmos to try to achieve this impossible task, using his father's soldiers against his brother's army. All the while, Gareth is gaining mastery over the sinister Void magic, and he is devoted to helping his childhood companion.. This gripping story of magical power and corruption takes the unique viewpoint of focusing on the evil characters, as we follow them from boys to men. Filled with action, suspense and wonderfully imaginative characters, Water From the Well of Darkness is set to elevate the careers of bestselling authors Weis & Hickman to spectacular new heights. Well of Darkness\n",
            "Second in line for succession to the throne, Prince Dagnarus will have his crown...and his queen -- though his heart's prize is a married elfin beauty. Let his hated half-brother Prince Helmos and the Dominion Lords dare to oppose him. For Dagnarus's most loyal servant has ventured into the terrible darkness, where lies the most potent talisman in the realm. And once it is in the dark prince's hand, no power will deter his Destiny. Well of Darkness\n",
            "This is the second book in New York Times bestselling author Scott Westerfelds Midnighters series. As the Midnighters search for the truth about the secret hour, they uncover terrifying mysteries woven into the very fabric of Bixbys history, and a conspiracy that touches the world of daylight. This time Jessica Day is not the only Midnighter in mortal danger, and if the group cant find a way to come together, they could lose one of their own . . . forever. Touching Darkness is the second book in the Midnighters trilogy, from the New York Times bestselling author of the Uglies series. Midnighters #2: Touching Darkness\n",
            "An evil wind blows through Midkemia. Dark legions have risen up to crush the Kingdom of the Isles and enslave it to dire magics. The final battle between Order and Chaos is abotu to begin in the ruins of the city called Sethanon.Now Pug, the master magician sometimes known as Milamber, must undertake an awesome and perilous quest to the dawn of time to grapple with an ancient and terrible Enemy for the fate of a thousand worlds. A Darkness at Sethanon\n",
            "The author chronicles his descent into depression, discussing not only his own experience and recovery but also how others can find help. Darkness Visible\n",
            "Children have been vanishing - there are no leads - just a kidnapper at large. The police have failed, the families are distraught and the morale at Lafferton station has collapsed. Then Detective Chief Inspector Simon Serailler receives a call: a child has been snatched in Yorkshire. Has the abductor struck again? And will they find this child alive? In The Risk of Darkness Simon Serailler takes on killing and kidnap, evil and innocence. The result is a compulsively readable and often chilling novel. 'Not all great novelists can write crime fiction but when one like Susan Hill does the result is stunning' Ruth Rendell The Risk of Darkness\n",
            "Originally published as part of The Dark Descent, this splendid collection of horror fiction deals with humanity's most powerful emotions--fear, love, and hope. Writers include Robert Aickman, Philip K. Dick, Charles Dickens, Stephen King, Joyce Carol Oates, Edith Wharton, and others. A Fabulous Formless Darkness\n",
            "A selection of top humorous pieces culled from the popular literary magazine includes \"Circumstance Under Which I Would Have Sex with Some of My Fellow Jurors,\" \"Pirate Riddles for Sophisticates,\" and \"The Ten Worst Films of All Time, as Reviewed by Ezra Pound over Italian Radio.\" Reprint. 50,000 first printing. Created In Darkness By Troubled Americans\n",
            "In the tiny farming community of Bacon's Corner, an attempted murder, a case of mistaken identity, and a lawsuit against a struggling Christian school all lead Sally Beth Roe to flee for her life Piercing the Darkness\n",
            "A prayerful pastor and a skeptical reporter compare notes and find themselves fighting a plot to subjugate the human race. A gripping look into the invisible spiritual warfare around us and the power of prayer. This Present Darkness\n",
            "John Piper examines depression from a spiritual perspective, guiding and encouraging those for whom joy seems to stay out of reach. When the Darkness Will Not Lift\n",
            "A score of centuries has passed since the First Apocalypse and the thoughts of men have turned, inevitably, to more worldly concerns... A veteran sorcerer and spy seeks news of an ancient enemy. A military genius plots to conquer the known world for his Emperor but dreams of the throne for himself. The spiritual leader of the Thousand Temples seeks a Holy War to cleanse the land of the infidel. An exiled barbarian chieftain seeks vengeance against the man who disgraced him. And into this world steps a man like no other, seeking to bind all - man and woman, emperor and slave - to his own mysterious ends. But the fate of men - even great men - means little when the world itself may soon be torn asunder. Behind the politics, beneath the religious fervour, a dark and ancient evil is reawakening. After two thousand years, the No-God is returning. The Second Apocalypse is nigh. And one cannot raise walls against what has been forgotten... The Darkness that Comes Before\n",
            "Rank 1: Peanuts (Distance: 18.5150)\n",
            "Rank 2: Second Home (Distance: 18.5152)\n",
            "Rank 3: BSD Hacks (Distance: 18.5156)\n",
            "Rank 4: Rat Race (Distance: 18.5168)\n",
            "Rank 5: Three Graphic Novels (Distance: 18.5179)\n"
          ]
        }
      ],
      "source": [
        "k = 5  # top-k results\n",
        "distances, indices = topk_recomendations(\"Darkness\",model=model,k=5)\n",
        "indices\n",
        "# Show results\n",
        "for i, idx in enumerate(indices):\n",
        "    print(f\"Rank {i+1}: {df_books.iloc[idx]['title']} (Distance: {distances[i]:.4f})\")"
      ]
    },
    {
      "cell_type": "code",
      "execution_count": null,
      "metadata": {
        "id": "SI4sk9hF4Rzm"
      },
      "outputs": [],
      "source": []
    }
  ],
  "metadata": {
    "accelerator": "TPU",
    "colab": {
      "gpuType": "V28",
      "provenance": [],
      "include_colab_link": true
    },
    "kernelspec": {
      "display_name": "Python [conda env:base] *",
      "language": "python",
      "name": "conda-base-py"
    },
    "language_info": {
      "codemirror_mode": {
        "name": "ipython",
        "version": 3
      },
      "file_extension": ".py",
      "mimetype": "text/x-python",
      "name": "python",
      "nbconvert_exporter": "python",
      "pygments_lexer": "ipython3",
      "version": "3.12.7"
    }
  },
  "nbformat": 4,
  "nbformat_minor": 0
}